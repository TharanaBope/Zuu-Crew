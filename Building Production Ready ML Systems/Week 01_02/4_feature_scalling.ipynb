{
 "cells": [
  {
   "cell_type": "code",
   "execution_count": 1,
   "id": "70d884b0",
   "metadata": {},
   "outputs": [
    {
     "name": "stdout",
     "output_type": "stream",
     "text": [
      "Requirement already satisfied: numpy in c:\\users\\thara\\anaconda3\\envs\\zuucrew1\\lib\\site-packages (from -r requirements.txt (line 1)) (2.3.1)\n",
      "Requirement already satisfied: pandas in c:\\users\\thara\\anaconda3\\envs\\zuucrew1\\lib\\site-packages (from -r requirements.txt (line 2)) (2.3.1)\n",
      "Requirement already satisfied: matplotlib in c:\\users\\thara\\anaconda3\\envs\\zuucrew1\\lib\\site-packages (from -r requirements.txt (line 3)) (3.10.3)\n",
      "Requirement already satisfied: seaborn in c:\\users\\thara\\anaconda3\\envs\\zuucrew1\\lib\\site-packages (from -r requirements.txt (line 4)) (0.13.2)\n",
      "Requirement already satisfied: scikit-learn in c:\\users\\thara\\anaconda3\\envs\\zuucrew1\\lib\\site-packages (from -r requirements.txt (line 5)) (1.7.0)\n",
      "Requirement already satisfied: openai in c:\\users\\thara\\anaconda3\\envs\\zuucrew1\\lib\\site-packages (from -r requirements.txt (line 6)) (1.95.1)\n",
      "Requirement already satisfied: groq in c:\\users\\thara\\anaconda3\\envs\\zuucrew1\\lib\\site-packages (from -r requirements.txt (line 7)) (0.30.0)\n",
      "Requirement already satisfied: dotenv in c:\\users\\thara\\anaconda3\\envs\\zuucrew1\\lib\\site-packages (from -r requirements.txt (line 8)) (0.9.9)\n",
      "Requirement already satisfied: python-dateutil>=2.8.2 in c:\\users\\thara\\anaconda3\\envs\\zuucrew1\\lib\\site-packages (from pandas->-r requirements.txt (line 2)) (2.9.0.post0)\n",
      "Requirement already satisfied: pytz>=2020.1 in c:\\users\\thara\\anaconda3\\envs\\zuucrew1\\lib\\site-packages (from pandas->-r requirements.txt (line 2)) (2025.2)\n",
      "Requirement already satisfied: tzdata>=2022.7 in c:\\users\\thara\\anaconda3\\envs\\zuucrew1\\lib\\site-packages (from pandas->-r requirements.txt (line 2)) (2025.2)\n",
      "Requirement already satisfied: contourpy>=1.0.1 in c:\\users\\thara\\anaconda3\\envs\\zuucrew1\\lib\\site-packages (from matplotlib->-r requirements.txt (line 3)) (1.3.2)\n",
      "Requirement already satisfied: cycler>=0.10 in c:\\users\\thara\\anaconda3\\envs\\zuucrew1\\lib\\site-packages (from matplotlib->-r requirements.txt (line 3)) (0.12.1)\n",
      "Requirement already satisfied: fonttools>=4.22.0 in c:\\users\\thara\\anaconda3\\envs\\zuucrew1\\lib\\site-packages (from matplotlib->-r requirements.txt (line 3)) (4.58.5)\n",
      "Requirement already satisfied: kiwisolver>=1.3.1 in c:\\users\\thara\\anaconda3\\envs\\zuucrew1\\lib\\site-packages (from matplotlib->-r requirements.txt (line 3)) (1.4.8)\n",
      "Requirement already satisfied: packaging>=20.0 in c:\\users\\thara\\anaconda3\\envs\\zuucrew1\\lib\\site-packages (from matplotlib->-r requirements.txt (line 3)) (25.0)\n",
      "Requirement already satisfied: pillow>=8 in c:\\users\\thara\\anaconda3\\envs\\zuucrew1\\lib\\site-packages (from matplotlib->-r requirements.txt (line 3)) (11.3.0)\n",
      "Requirement already satisfied: pyparsing>=2.3.1 in c:\\users\\thara\\anaconda3\\envs\\zuucrew1\\lib\\site-packages (from matplotlib->-r requirements.txt (line 3)) (3.2.3)\n",
      "Requirement already satisfied: scipy>=1.8.0 in c:\\users\\thara\\anaconda3\\envs\\zuucrew1\\lib\\site-packages (from scikit-learn->-r requirements.txt (line 5)) (1.16.0)\n",
      "Requirement already satisfied: joblib>=1.2.0 in c:\\users\\thara\\anaconda3\\envs\\zuucrew1\\lib\\site-packages (from scikit-learn->-r requirements.txt (line 5)) (1.5.1)\n",
      "Requirement already satisfied: threadpoolctl>=3.1.0 in c:\\users\\thara\\anaconda3\\envs\\zuucrew1\\lib\\site-packages (from scikit-learn->-r requirements.txt (line 5)) (3.6.0)\n",
      "Requirement already satisfied: anyio<5,>=3.5.0 in c:\\users\\thara\\anaconda3\\envs\\zuucrew1\\lib\\site-packages (from openai->-r requirements.txt (line 6)) (4.9.0)\n",
      "Requirement already satisfied: distro<2,>=1.7.0 in c:\\users\\thara\\anaconda3\\envs\\zuucrew1\\lib\\site-packages (from openai->-r requirements.txt (line 6)) (1.9.0)\n",
      "Requirement already satisfied: httpx<1,>=0.23.0 in c:\\users\\thara\\anaconda3\\envs\\zuucrew1\\lib\\site-packages (from openai->-r requirements.txt (line 6)) (0.28.1)\n",
      "Requirement already satisfied: jiter<1,>=0.4.0 in c:\\users\\thara\\anaconda3\\envs\\zuucrew1\\lib\\site-packages (from openai->-r requirements.txt (line 6)) (0.10.0)\n",
      "Requirement already satisfied: pydantic<3,>=1.9.0 in c:\\users\\thara\\anaconda3\\envs\\zuucrew1\\lib\\site-packages (from openai->-r requirements.txt (line 6)) (2.11.7)\n",
      "Requirement already satisfied: sniffio in c:\\users\\thara\\anaconda3\\envs\\zuucrew1\\lib\\site-packages (from openai->-r requirements.txt (line 6)) (1.3.1)\n",
      "Requirement already satisfied: tqdm>4 in c:\\users\\thara\\anaconda3\\envs\\zuucrew1\\lib\\site-packages (from openai->-r requirements.txt (line 6)) (4.67.1)\n",
      "Requirement already satisfied: typing-extensions<5,>=4.11 in c:\\users\\thara\\anaconda3\\envs\\zuucrew1\\lib\\site-packages (from openai->-r requirements.txt (line 6)) (4.14.1)\n",
      "Requirement already satisfied: idna>=2.8 in c:\\users\\thara\\anaconda3\\envs\\zuucrew1\\lib\\site-packages (from anyio<5,>=3.5.0->openai->-r requirements.txt (line 6)) (3.10)\n",
      "Requirement already satisfied: certifi in c:\\users\\thara\\anaconda3\\envs\\zuucrew1\\lib\\site-packages (from httpx<1,>=0.23.0->openai->-r requirements.txt (line 6)) (2025.7.9)\n",
      "Requirement already satisfied: httpcore==1.* in c:\\users\\thara\\anaconda3\\envs\\zuucrew1\\lib\\site-packages (from httpx<1,>=0.23.0->openai->-r requirements.txt (line 6)) (1.0.9)\n",
      "Requirement already satisfied: h11>=0.16 in c:\\users\\thara\\anaconda3\\envs\\zuucrew1\\lib\\site-packages (from httpcore==1.*->httpx<1,>=0.23.0->openai->-r requirements.txt (line 6)) (0.16.0)\n",
      "Requirement already satisfied: annotated-types>=0.6.0 in c:\\users\\thara\\anaconda3\\envs\\zuucrew1\\lib\\site-packages (from pydantic<3,>=1.9.0->openai->-r requirements.txt (line 6)) (0.7.0)\n",
      "Requirement already satisfied: pydantic-core==2.33.2 in c:\\users\\thara\\anaconda3\\envs\\zuucrew1\\lib\\site-packages (from pydantic<3,>=1.9.0->openai->-r requirements.txt (line 6)) (2.33.2)\n",
      "Requirement already satisfied: typing-inspection>=0.4.0 in c:\\users\\thara\\anaconda3\\envs\\zuucrew1\\lib\\site-packages (from pydantic<3,>=1.9.0->openai->-r requirements.txt (line 6)) (0.4.1)\n",
      "Requirement already satisfied: python-dotenv in c:\\users\\thara\\anaconda3\\envs\\zuucrew1\\lib\\site-packages (from dotenv->-r requirements.txt (line 8)) (1.1.1)\n",
      "Requirement already satisfied: six>=1.5 in c:\\users\\thara\\anaconda3\\envs\\zuucrew1\\lib\\site-packages (from python-dateutil>=2.8.2->pandas->-r requirements.txt (line 2)) (1.17.0)\n",
      "Requirement already satisfied: colorama in c:\\users\\thara\\anaconda3\\envs\\zuucrew1\\lib\\site-packages (from tqdm>4->openai->-r requirements.txt (line 6)) (0.4.6)\n",
      "Note: you may need to restart the kernel to use updated packages.\n"
     ]
    }
   ],
   "source": [
    "%pip install -r requirements.txt"
   ]
  },
  {
   "cell_type": "code",
   "execution_count": 2,
   "id": "e323d0e9",
   "metadata": {},
   "outputs": [],
   "source": [
    "import os\n",
    "import pandas as pd\n",
    "import numpy as np\n",
    "import seaborn as sns\n",
    "import matplotlib.pyplot as plt"
   ]
  }
 ],
 "metadata": {
  "kernelspec": {
   "display_name": "ZuuCrew1",
   "language": "python",
   "name": "python3"
  },
  "language_info": {
   "codemirror_mode": {
    "name": "ipython",
    "version": 3
   },
   "file_extension": ".py",
   "mimetype": "text/x-python",
   "name": "python",
   "nbconvert_exporter": "python",
   "pygments_lexer": "ipython3",
   "version": "3.11.13"
  }
 },
 "nbformat": 4,
 "nbformat_minor": 5
}
