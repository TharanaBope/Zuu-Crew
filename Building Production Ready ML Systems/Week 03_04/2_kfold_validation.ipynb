{
 "cells": [
  {
   "cell_type": "code",
   "execution_count": 27,
   "id": "ffffd9a4",
   "metadata": {},
   "outputs": [],
   "source": [
    "import warnings\n",
    "import numpy as np\n",
    "import pandas as pd\n",
    "import seaborn as sns\n",
    "import matplotlib.pyplot as plt\n",
    "from sklearn.linear_model import LogisticRegression\n",
    "from sklearn.model_selection import (\n",
    "                                    StratifiedKFold, \n",
    "                                    cross_validate\n",
    "                                    )\n",
    "from sklearn.metrics import (\n",
    "                            confusion_matrix, \n",
    "                            f1_score,\n",
    "                            accuracy_score,\n",
    "                            precision_score,\n",
    "                            recall_score\n",
    "                            )\n",
    "warnings.filterwarnings('ignore')"
   ]
  },
  {
   "cell_type": "markdown",
   "id": "7648050b",
   "metadata": {},
   "source": [
    "### 1. Load the data"
   ]
  },
  {
   "cell_type": "code",
   "execution_count": 28,
   "id": "2b523118",
   "metadata": {},
   "outputs": [],
   "source": [
    "X_train = np.load('artifacts/X_train.npz')['arr_0']\n",
    "Y_train = np.load('artifacts/Y_train.npz')['arr_0']\n",
    "X_test = np.load('artifacts/X_test.npz')['arr_0']\n",
    "Y_test = np.load('artifacts/Y_test.npz')['arr_0']"
   ]
  },
  {
   "cell_type": "markdown",
   "id": "817e7759",
   "metadata": {},
   "source": [
    "### 2. Configure k-Fold CV"
   ]
  },
  {
   "cell_type": "code",
   "execution_count": 29,
   "id": "46f103bc",
   "metadata": {},
   "outputs": [],
   "source": [
    "cv = StratifiedKFold(\n",
    "                    n_splits=6,\n",
    "                    random_state=42,\n",
    "                    shuffle=True\n",
    "                    )"
   ]
  },
  {
   "cell_type": "code",
   "execution_count": null,
   "id": "95a0ef1d",
   "metadata": {},
   "outputs": [],
   "source": [
    "# Only initializing LR model \n",
    "model_lr = LogisticRegression(\n",
    "                            random_state = 42,\n",
    "                            max_iter = 1000      \n",
    "                            )"
   ]
  },
  {
   "cell_type": "code",
   "execution_count": null,
   "id": "0c0f1903",
   "metadata": {},
   "outputs": [],
   "source": [
    "# Cross-validation for precision score\n",
    "cv_results = cross_validate(\n",
    "                            model_lr,\n",
    "                            X_train,\n",
    "                            Y_train,\n",
    "                            cv=cv, scoring='precision',\n",
    "                            return_train_score=False\n",
    "                            )"
   ]
  },
  {
   "cell_type": "code",
   "execution_count": 32,
   "id": "3f0451b8",
   "metadata": {},
   "outputs": [
    {
     "data": {
      "text/plain": [
       "{'fit_time': array([0.0184617 , 0.01990747, 0.01549125, 0.01879001, 0.02001381,\n",
       "        0.01707911]),\n",
       " 'score_time': array([0.00628757, 0.00644588, 0.0054183 , 0.00485587, 0.00404096,\n",
       "        0.00203133]),\n",
       " 'test_score': array([0.74      , 0.70813845, 0.72829132, 0.74098672, 0.72488263,\n",
       "        0.73030584])}"
      ]
     },
     "execution_count": 32,
     "metadata": {},
     "output_type": "execute_result"
    }
   ],
   "source": [
    "cv_results"
   ]
  }
 ],
 "metadata": {
  "kernelspec": {
   "display_name": "ZuuCrew1",
   "language": "python",
   "name": "python3"
  },
  "language_info": {
   "codemirror_mode": {
    "name": "ipython",
    "version": 3
   },
   "file_extension": ".py",
   "mimetype": "text/x-python",
   "name": "python",
   "nbconvert_exporter": "python",
   "pygments_lexer": "ipython3",
   "version": "3.11.13"
  }
 },
 "nbformat": 4,
 "nbformat_minor": 5
}
